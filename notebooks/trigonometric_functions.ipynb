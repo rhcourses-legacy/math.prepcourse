{
 "cells": [
  {
   "cell_type": "code",
   "execution_count": null,
   "metadata": {},
   "outputs": [],
   "source": [
    "# Setup notebook for plotting\n",
    "%matplotlib widget\n",
    "import matplotlib.pyplot as plt\n",
    "import numpy as np\n",
    "\n",
    "# Setup notebook for interactive widgets\n",
    "from ipywidgets import Box, Layout, FloatSlider"
   ]
  },
  {
   "cell_type": "code",
   "execution_count": null,
   "metadata": {},
   "outputs": [],
   "source": [
    "def slider(description, tooltip, value, min, max):\n",
    "    return FloatSlider(\n",
    "        orientation='horizontal',\n",
    "        description=description,\n",
    "        value=value,\n",
    "        min=min,\n",
    "        max=max,\n",
    "        width='auto',\n",
    "        tooltip=tooltip\n",
    "    )\n",
    "\n",
    "def sliderbox(sliders):\n",
    "    sliderbox_layout = Layout(\n",
    "        display='flex',\n",
    "        flex_flow='column',\n",
    "        align_items='stretch',\n",
    "        width='50%'\n",
    "    )\n",
    "    return Box(children=sliders, layout=sliderbox_layout)\n",
    "\n",
    "def sin_graph():\n",
    "    '''Returns a Box containing a matplotlib graph of a sine function and three sliders to change the amplitude, frequency and phase of the sine function.'''\n",
    "    plt.ioff()\n",
    "\n",
    "    slider_A = slider('A', 'Amplitude', 1.0, 0.0, 2.0)\n",
    "    slider_b = slider('b', 'Frequenz', 1.0, 0.0, 2.0)\n",
    "    slider_c = slider('c', 'Phase', 0.0, 0.0, 2.0)\n",
    "\n",
    "    def sin_value(x):\n",
    "        return slider_A.value * np.sin(slider_b.value * x + slider_c.value)\n",
    "\n",
    "    def sin_title():\n",
    "        return f'y = {slider_A.value} * sin({slider_b.value} * x + {slider_c.value})'\n",
    "\n",
    "    fig = plt.figure()\n",
    "    fig.canvas.header_visible = False\n",
    "    fig.canvas.layout.min_height = '400px'\n",
    "\n",
    "    x = np.linspace(0, 20, 500)\n",
    "    sin_plot = plt.plot(x, sin_value(x))\n",
    "\n",
    "    def update_sin(change):\n",
    "        plt.title(sin_title())\n",
    "        sin_plot[0].set_data(x, sin_value(x))\n",
    "        fig.canvas.draw()\n",
    "        fig.canvas.flush_events()\n",
    "    update_sin(None)\n",
    "\n",
    "    slider_A.observe(update_sin)\n",
    "    slider_b.observe(update_sin)\n",
    "    slider_c.observe(update_sin)\n",
    "\n",
    "    sliders = [slider_A, slider_b, slider_c]\n",
    "\n",
    "    graphbox_items = [fig.canvas, sliderbox(sliders)]\n",
    "    graphbox_layout = Layout(\n",
    "        display='flex',\n",
    "        flex_flow='row',\n",
    "        align_items='center',\n",
    "        width='auto auto'\n",
    "    )\n",
    "    graphbox = Box(children=graphbox_items, layout=graphbox_layout)\n",
    "\n",
    "    return graphbox"
   ]
  },
  {
   "cell_type": "code",
   "execution_count": null,
   "metadata": {},
   "outputs": [],
   "source": [
    "sin_graph()"
   ]
  },
  {
   "cell_type": "code",
   "execution_count": null,
   "metadata": {},
   "outputs": [],
   "source": []
  }
 ],
 "metadata": {
  "kernelspec": {
   "display_name": ".venv",
   "language": "python",
   "name": "python3"
  },
  "language_info": {
   "codemirror_mode": {
    "name": "ipython",
    "version": 3
   },
   "file_extension": ".py",
   "mimetype": "text/x-python",
   "name": "python",
   "nbconvert_exporter": "python",
   "pygments_lexer": "ipython3",
   "version": "3.11.4"
  },
  "orig_nbformat": 4
 },
 "nbformat": 4,
 "nbformat_minor": 2
}
